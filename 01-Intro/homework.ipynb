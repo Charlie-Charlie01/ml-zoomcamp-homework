{
 "cells": [
  {
   "cell_type": "markdown",
   "id": "974bdd47-8124-45c0-8595-49297bd57d3c",
   "metadata": {},
   "source": [
    "## Q1"
   ]
  },
  {
   "cell_type": "code",
   "execution_count": 2,
   "id": "07f82f48-1fe4-4c7e-b3ec-a11db5516c2e",
   "metadata": {},
   "outputs": [],
   "source": [
    "import pandas as pd"
   ]
  },
  {
   "cell_type": "code",
   "execution_count": 3,
   "id": "4eca85bd-216e-48d6-8a41-cdc882eb920d",
   "metadata": {},
   "outputs": [
    {
     "data": {
      "text/plain": [
       "'2.3.1'"
      ]
     },
     "execution_count": 3,
     "metadata": {},
     "output_type": "execute_result"
    }
   ],
   "source": [
    "# to get the version of pandas used\n",
    "pd.__version__"
   ]
  },
  {
   "cell_type": "code",
   "execution_count": 4,
   "id": "04da6c34-7fbf-4177-aa30-f0300a7ed370",
   "metadata": {},
   "outputs": [],
   "source": [
    "# import the dataset \n",
    "df=pd.read_csv('https://raw.githubusercontent.com/alexeygrigorev/datasets/master/car_fuel_efficiency.csv')"
   ]
  },
  {
   "cell_type": "code",
   "execution_count": 5,
   "id": "a32e45b9-750f-4563-835b-3e4bf0ebd961",
   "metadata": {},
   "outputs": [
    {
     "data": {
      "text/html": [
       "<div>\n",
       "<style scoped>\n",
       "    .dataframe tbody tr th:only-of-type {\n",
       "        vertical-align: middle;\n",
       "    }\n",
       "\n",
       "    .dataframe tbody tr th {\n",
       "        vertical-align: top;\n",
       "    }\n",
       "\n",
       "    .dataframe thead th {\n",
       "        text-align: right;\n",
       "    }\n",
       "</style>\n",
       "<table border=\"1\" class=\"dataframe\">\n",
       "  <thead>\n",
       "    <tr style=\"text-align: right;\">\n",
       "      <th></th>\n",
       "      <th>engine_displacement</th>\n",
       "      <th>num_cylinders</th>\n",
       "      <th>horsepower</th>\n",
       "      <th>vehicle_weight</th>\n",
       "      <th>acceleration</th>\n",
       "      <th>model_year</th>\n",
       "      <th>origin</th>\n",
       "      <th>fuel_type</th>\n",
       "      <th>drivetrain</th>\n",
       "      <th>num_doors</th>\n",
       "      <th>fuel_efficiency_mpg</th>\n",
       "    </tr>\n",
       "  </thead>\n",
       "  <tbody>\n",
       "    <tr>\n",
       "      <th>0</th>\n",
       "      <td>170</td>\n",
       "      <td>3.0</td>\n",
       "      <td>159.0</td>\n",
       "      <td>3413.433759</td>\n",
       "      <td>17.7</td>\n",
       "      <td>2003</td>\n",
       "      <td>Europe</td>\n",
       "      <td>Gasoline</td>\n",
       "      <td>All-wheel drive</td>\n",
       "      <td>0.0</td>\n",
       "      <td>13.231729</td>\n",
       "    </tr>\n",
       "    <tr>\n",
       "      <th>1</th>\n",
       "      <td>130</td>\n",
       "      <td>5.0</td>\n",
       "      <td>97.0</td>\n",
       "      <td>3149.664934</td>\n",
       "      <td>17.8</td>\n",
       "      <td>2007</td>\n",
       "      <td>USA</td>\n",
       "      <td>Gasoline</td>\n",
       "      <td>Front-wheel drive</td>\n",
       "      <td>0.0</td>\n",
       "      <td>13.688217</td>\n",
       "    </tr>\n",
       "    <tr>\n",
       "      <th>2</th>\n",
       "      <td>170</td>\n",
       "      <td>NaN</td>\n",
       "      <td>78.0</td>\n",
       "      <td>3079.038997</td>\n",
       "      <td>15.1</td>\n",
       "      <td>2018</td>\n",
       "      <td>Europe</td>\n",
       "      <td>Gasoline</td>\n",
       "      <td>Front-wheel drive</td>\n",
       "      <td>0.0</td>\n",
       "      <td>14.246341</td>\n",
       "    </tr>\n",
       "    <tr>\n",
       "      <th>3</th>\n",
       "      <td>220</td>\n",
       "      <td>4.0</td>\n",
       "      <td>NaN</td>\n",
       "      <td>2542.392402</td>\n",
       "      <td>20.2</td>\n",
       "      <td>2009</td>\n",
       "      <td>USA</td>\n",
       "      <td>Diesel</td>\n",
       "      <td>All-wheel drive</td>\n",
       "      <td>2.0</td>\n",
       "      <td>16.912736</td>\n",
       "    </tr>\n",
       "    <tr>\n",
       "      <th>4</th>\n",
       "      <td>210</td>\n",
       "      <td>1.0</td>\n",
       "      <td>140.0</td>\n",
       "      <td>3460.870990</td>\n",
       "      <td>14.4</td>\n",
       "      <td>2009</td>\n",
       "      <td>Europe</td>\n",
       "      <td>Gasoline</td>\n",
       "      <td>All-wheel drive</td>\n",
       "      <td>2.0</td>\n",
       "      <td>12.488369</td>\n",
       "    </tr>\n",
       "  </tbody>\n",
       "</table>\n",
       "</div>"
      ],
      "text/plain": [
       "   engine_displacement  num_cylinders  horsepower  vehicle_weight  \\\n",
       "0                  170            3.0       159.0     3413.433759   \n",
       "1                  130            5.0        97.0     3149.664934   \n",
       "2                  170            NaN        78.0     3079.038997   \n",
       "3                  220            4.0         NaN     2542.392402   \n",
       "4                  210            1.0       140.0     3460.870990   \n",
       "\n",
       "   acceleration  model_year  origin fuel_type         drivetrain  num_doors  \\\n",
       "0          17.7        2003  Europe  Gasoline    All-wheel drive        0.0   \n",
       "1          17.8        2007     USA  Gasoline  Front-wheel drive        0.0   \n",
       "2          15.1        2018  Europe  Gasoline  Front-wheel drive        0.0   \n",
       "3          20.2        2009     USA    Diesel    All-wheel drive        2.0   \n",
       "4          14.4        2009  Europe  Gasoline    All-wheel drive        2.0   \n",
       "\n",
       "   fuel_efficiency_mpg  \n",
       "0            13.231729  \n",
       "1            13.688217  \n",
       "2            14.246341  \n",
       "3            16.912736  \n",
       "4            12.488369  "
      ]
     },
     "execution_count": 5,
     "metadata": {},
     "output_type": "execute_result"
    }
   ],
   "source": [
    "#let's view the first 5 rows of the dataframe\n",
    "df.head()"
   ]
  },
  {
   "cell_type": "markdown",
   "id": "dced36e9-c270-43b1-a02a-48873dd1befa",
   "metadata": {},
   "source": [
    "## Q2"
   ]
  },
  {
   "cell_type": "code",
   "execution_count": 6,
   "id": "379db99a-a5d8-4714-b2cf-5fd3f09eca58",
   "metadata": {},
   "outputs": [
    {
     "data": {
      "text/plain": [
       "(9704, 11)"
      ]
     },
     "execution_count": 6,
     "metadata": {},
     "output_type": "execute_result"
    }
   ],
   "source": [
    "# lets get the record count, which is the total number of rows that is present in the dataframe\n",
    "df.shape"
   ]
  },
  {
   "cell_type": "markdown",
   "id": "7f8e3875-c954-4140-ae22-ba5781de7bce",
   "metadata": {},
   "source": [
    "## Q3"
   ]
  },
  {
   "cell_type": "code",
   "execution_count": 7,
   "id": "d53c138a-d227-4425-b9c6-a90bcfe5de55",
   "metadata": {},
   "outputs": [
    {
     "data": {
      "text/plain": [
       "fuel_type\n",
       "Gasoline    4898\n",
       "Diesel      4806\n",
       "Name: count, dtype: int64"
      ]
     },
     "execution_count": 7,
     "metadata": {},
     "output_type": "execute_result"
    }
   ],
   "source": [
    "# next, we'll view the number of fuel type present in the dataset\n",
    "df.value_counts('fuel_type')"
   ]
  },
  {
   "cell_type": "markdown",
   "id": "99c5e383-3142-4f54-86c3-a1083d983e7e",
   "metadata": {},
   "source": [
    "- there're are 2 fuel type in the datasets"
   ]
  },
  {
   "cell_type": "markdown",
   "id": "a6e858fc-1f51-4647-bdda-a15ff50adad8",
   "metadata": {},
   "source": [
    "## Q4"
   ]
  },
  {
   "cell_type": "code",
   "execution_count": 8,
   "id": "6e16736f-2908-4be4-b8cf-9930bcfab1f6",
   "metadata": {},
   "outputs": [
    {
     "data": {
      "text/plain": [
       "engine_displacement      0\n",
       "num_cylinders          482\n",
       "horsepower             708\n",
       "vehicle_weight           0\n",
       "acceleration           930\n",
       "model_year               0\n",
       "origin                   0\n",
       "fuel_type                0\n",
       "drivetrain               0\n",
       "num_doors              502\n",
       "fuel_efficiency_mpg      0\n",
       "dtype: int64"
      ]
     },
     "execution_count": 8,
     "metadata": {},
     "output_type": "execute_result"
    }
   ],
   "source": [
    "# to get the columns of missing dataset\n",
    "df.isnull().sum()"
   ]
  },
  {
   "cell_type": "markdown",
   "id": "52b47ceb-9c81-440a-bf88-63e66c124700",
   "metadata": {},
   "source": [
    "- we have 4 columns with missing datasets"
   ]
  },
  {
   "cell_type": "code",
   "execution_count": 9,
   "id": "f1cb656d-1401-476f-b571-2f2dbc23c33b",
   "metadata": {},
   "outputs": [
    {
     "data": {
      "text/plain": [
       "np.int64(4)"
      ]
     },
     "execution_count": 9,
     "metadata": {},
     "output_type": "execute_result"
    }
   ],
   "source": [
    "df.isnull().any().sum()"
   ]
  },
  {
   "cell_type": "markdown",
   "id": "d08459d4-ee99-4d6d-8a13-f085fed0c73e",
   "metadata": {},
   "source": [
    "## Q5"
   ]
  },
  {
   "cell_type": "code",
   "execution_count": 10,
   "id": "4319b3de-3eab-456e-92a1-4726af00d314",
   "metadata": {},
   "outputs": [
    {
     "data": {
      "text/plain": [
       "np.float64(23.759122836520497)"
      ]
     },
     "execution_count": 10,
     "metadata": {},
     "output_type": "execute_result"
    }
   ],
   "source": [
    "# next, we'll work on the maximum fuel efficiency of cars from Asia \n",
    "df[df['origin'] == 'Asia']['fuel_efficiency_mpg'].max()"
   ]
  },
  {
   "cell_type": "markdown",
   "id": "f6057dea-9ac6-4bae-854f-34558ddc80eb",
   "metadata": {},
   "source": [
    "- the max fuel efficiency of cars from Asia is 23.75"
   ]
  },
  {
   "cell_type": "markdown",
   "id": "a8414bbd-e96e-445c-b265-4d19cc22a954",
   "metadata": {},
   "source": [
    "## Q6"
   ]
  },
  {
   "cell_type": "code",
   "execution_count": 11,
   "id": "061a32ee-d486-4de3-9aae-83cfbb53043b",
   "metadata": {},
   "outputs": [
    {
     "name": "stdout",
     "output_type": "stream",
     "text": [
      "Original median: 149.0\n"
     ]
    }
   ],
   "source": [
    "# we'll start with original median value of the horsepower\n",
    "original_median = df['horsepower'].median()\n",
    "print(f\"Original median: {original_median}\")"
   ]
  },
  {
   "cell_type": "code",
   "execution_count": 13,
   "id": "265dc875-624e-445a-8a11-cbb5c6d2aa58",
   "metadata": {},
   "outputs": [
    {
     "name": "stdout",
     "output_type": "stream",
     "text": [
      "Most frequent value: 152.0\n"
     ]
    }
   ],
   "source": [
    "# next, we'll calculate the most frequent value (mode) of horsepower\n",
    "most_frequent = df['horsepower'].mode()[0]\n",
    "print(f\"Most frequent value: {most_frequent}\")"
   ]
  },
  {
   "cell_type": "code",
   "execution_count": 14,
   "id": "e48f3160-cf65-4012-9f63-20a63632c379",
   "metadata": {},
   "outputs": [],
   "source": [
    "# let's fill missing values with the most frequent value\n",
    "df['horsepower'] = df['horsepower'].fillna(most_frequent)"
   ]
  },
  {
   "cell_type": "code",
   "execution_count": 15,
   "id": "840efc4a-5a6a-4dbe-b5b3-c78cdb104a29",
   "metadata": {},
   "outputs": [
    {
     "name": "stdout",
     "output_type": "stream",
     "text": [
      "New median: 152.0\n"
     ]
    }
   ],
   "source": [
    "# let's calculate the new median after filling missing values\n",
    "new_median = df['horsepower'].median()\n",
    "print(f\"New median: {new_median}\")"
   ]
  },
  {
   "cell_type": "markdown",
   "id": "6f93c12b-e45a-4871-a1b5-4fa84b26274b",
   "metadata": {},
   "source": [
    "- yes, it increased."
   ]
  },
  {
   "cell_type": "code",
   "execution_count": 16,
   "id": "d84a7e4e-ea7e-47c8-9c6e-ef782defb0ae",
   "metadata": {},
   "outputs": [
    {
     "name": "stdout",
     "output_type": "stream",
     "text": [
      "Original median: 149.0\n",
      "New median: 152.0\n",
      "Yes, it increased\n"
     ]
    }
   ],
   "source": [
    "# let's compare the results\n",
    "print(f\"Original median: {original_median}\")\n",
    "print(f\"New median: {new_median}\")\n",
    "\n",
    "if new_median > original_median:\n",
    "    print(\"Yes, it increased\")\n",
    "elif new_median < original_median:\n",
    "    print(\"Yes, it decreased\")\n",
    "else:\n",
    "    print(\"No, it stayed the same\")"
   ]
  },
  {
   "cell_type": "markdown",
   "id": "4d2c4bcc-14dd-477a-bedd-22624d52a854",
   "metadata": {},
   "source": [
    "## Q7"
   ]
  },
  {
   "cell_type": "code",
   "execution_count": 17,
   "id": "8330c4d9-f586-4f65-9d58-3278ecce2516",
   "metadata": {},
   "outputs": [],
   "source": [
    "# we'll selct cars from Asia\n",
    "asia_cars = df[df['origin'] == 'Asia']"
   ]
  },
  {
   "cell_type": "code",
   "execution_count": 18,
   "id": "610e7e43-5f44-4208-9abf-3601b5f383b4",
   "metadata": {},
   "outputs": [],
   "source": [
    "# let's select only vehicle_weight and model_year columns\n",
    "selected_data = asia_cars[['vehicle_weight', 'model_year']]\n",
    "\n",
    "# let's select the first 7 values \n",
    "first_7 = selected_data.head(7)"
   ]
  },
  {
   "cell_type": "code",
   "execution_count": 19,
   "id": "2ba8b75e-1c1d-4adb-bdeb-ce31d740e6c8",
   "metadata": {},
   "outputs": [
    {
     "name": "stdout",
     "output_type": "stream",
     "text": [
      "X shape: (7, 2)\n"
     ]
    }
   ],
   "source": [
    "# next, we'll get the underlying NumPy array X\n",
    "import numpy as np\n",
    "\n",
    "X = first_7.values\n",
    "print(f\"X shape: {X.shape}\")"
   ]
  },
  {
   "cell_type": "code",
   "execution_count": 20,
   "id": "59812d2a-d5ca-4a30-a377-2a8d1c14d55e",
   "metadata": {},
   "outputs": [
    {
     "name": "stdout",
     "output_type": "stream",
     "text": [
      "XTX shape: (2, 2)\n"
     ]
    }
   ],
   "source": [
    "# we'll compute matrix multiplication between transpose of X and X\n",
    "XTX = X.T @ X \n",
    "print(f\"XTX shape: {XTX.shape}\")"
   ]
  },
  {
   "cell_type": "code",
   "execution_count": 21,
   "id": "d02b5057-130d-492e-9609-7449b37ec9eb",
   "metadata": {},
   "outputs": [
    {
     "name": "stdout",
     "output_type": "stream",
     "text": [
      "Sum of all elements in w: 0.5187709081074016\n"
     ]
    }
   ],
   "source": [
    "# let's invert XTX\n",
    "XTX_inv = np.linalg.inv(XTX)\n",
    "\n",
    "# let's create array y\n",
    "y = np.array([1100, 1300, 800, 900, 1000, 1100, 1200])\n",
    "\n",
    "# we'll multiply inverse of XTX with transpose of X, then multiply by y\n",
    "w = XTX_inv @ X.T @ y \n",
    "\n",
    "# finally, we'll sum of all elements\n",
    "result = w.sum()\n",
    "print(f\"Sum of all elements in w: {result}\")"
   ]
  },
  {
   "cell_type": "code",
   "execution_count": null,
   "id": "0dc7c17b-19bf-4fe1-94da-bfbca8a94b51",
   "metadata": {},
   "outputs": [],
   "source": []
  }
 ],
 "metadata": {
  "kernelspec": {
   "display_name": "Python 3 (ipykernel)",
   "language": "python",
   "name": "python3"
  },
  "language_info": {
   "codemirror_mode": {
    "name": "ipython",
    "version": 3
   },
   "file_extension": ".py",
   "mimetype": "text/x-python",
   "name": "python",
   "nbconvert_exporter": "python",
   "pygments_lexer": "ipython3",
   "version": "3.12.1"
  }
 },
 "nbformat": 4,
 "nbformat_minor": 5
}
